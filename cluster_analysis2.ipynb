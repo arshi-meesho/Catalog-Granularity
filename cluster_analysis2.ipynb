{
 "cells": [
  {
   "cell_type": "code",
   "execution_count": 0,
   "metadata": {
    "application/vnd.databricks.v1+cell": {
     "cellMetadata": {
      "byteLimit": 2048000,
      "rowLimit": 10000
     },
     "inputWidgets": {},
     "nuid": "cbe608e3-c2f7-4c87-acb0-f202ba0f8104",
     "showTitle": false,
     "tableResultSettingsMap": {},
     "title": ""
    }
   },
   "outputs": [
    {
     "output_type": "stream",
     "name": "stdout",
     "output_type": "stream",
     "text": [
      "\u001B[43mNote: you may need to restart the kernel using dbutils.library.restartPython() to use updated packages.\u001B[0m\nCollecting hdbscan\n  Downloading hdbscan-0.8.40-cp310-cp310-manylinux_2_17_x86_64.manylinux2014_x86_64.whl (4.2 MB)\n     ━━━━━━━━━━━━━━━━━━━━━━━━━━━━━━━━━━━━━━━━ 4.2/4.2 MB 38.7 MB/s eta 0:00:00\nRequirement already satisfied: joblib>=1.0 in /databricks/python3/lib/python3.10/site-packages (from hdbscan) (1.2.0)\nRequirement already satisfied: scipy>=1.0 in /databricks/python3/lib/python3.10/site-packages (from hdbscan) (1.9.1)\nRequirement already satisfied: scikit-learn>=0.20 in /databricks/python3/lib/python3.10/site-packages (from hdbscan) (1.1.1)\nRequirement already satisfied: numpy<3,>=1.20 in /local_disk0/.ephemeral_nfs/cluster_libraries/python/lib/python3.10/site-packages (from hdbscan) (1.26.4)\nRequirement already satisfied: threadpoolctl>=2.0.0 in /databricks/python3/lib/python3.10/site-packages (from scikit-learn>=0.20->hdbscan) (2.2.0)\nCollecting numpy<3,>=1.20\n  Using cached numpy-1.24.4-cp310-cp310-manylinux_2_17_x86_64.manylinux2014_x86_64.whl (17.3 MB)\nInstalling collected packages: numpy, hdbscan\n  Attempting uninstall: numpy\n    Found existing installation: numpy 1.26.4\n    Not uninstalling numpy at /local_disk0/.ephemeral_nfs/cluster_libraries/python/lib/python3.10/site-packages, outside environment /local_disk0/.ephemeral_nfs/envs/pythonEnv-a69f6608-6af7-46de-84a1-f6a78da6d459\n    Can't uninstall 'numpy'. No files were found to uninstall.\nERROR: pip's dependency resolver does not currently take into account all the packages that are installed. This behaviour is the source of the following dependency conflicts.\npetastorm 0.12.1 requires pyspark>=2.1.0, which is not installed.\ndatabricks-feature-store 0.14.3 requires pyspark<4,>=3.1.2, which is not installed.\nydata-profiling 4.2.0 requires numpy<1.24,>=1.16.0, but you have numpy 1.24.4 which is incompatible.\ntorchvision 0.14.1+cpu requires torch==1.13.1, but you have torch 2.6.0 which is incompatible.\ntensorflow-cpu 2.11.1 requires keras<2.12,>=2.11.0, but you have keras 3.9.2 which is incompatible.\ntensorflow-cpu 2.11.1 requires protobuf<3.20,>=3.9.2, but you have protobuf 4.25.6 which is incompatible.\ntensorflow-cpu 2.11.1 requires tensorboard<2.12,>=2.11, but you have tensorboard 2.17.1 which is incompatible.\nnumba 0.55.1 requires numpy<1.22,>=1.18, but you have numpy 1.24.4 which is incompatible.\nmleap 0.20.0 requires scikit-learn<0.23.0,>=0.22.0, but you have scikit-learn 1.1.1 which is incompatible.\nSuccessfully installed hdbscan-0.8.40 numpy-1.24.4\n\u001B[43mNote: you may need to restart the kernel using dbutils.library.restartPython() to use updated packages.\u001B[0m\n"
     ]
    }
   ],
   "source": [
    "%pip install hdbscan"
   ]
  },
  {
   "cell_type": "code",
   "execution_count": 0,
   "metadata": {
    "application/vnd.databricks.v1+cell": {
     "cellMetadata": {
      "byteLimit": 2048000,
      "rowLimit": 10000
     },
     "inputWidgets": {},
     "nuid": "3f503670-ff52-4d18-a76b-8a6243b237c5",
     "showTitle": false,
     "tableResultSettingsMap": {},
     "title": ""
    }
   },
   "outputs": [],
   "source": [
    "dbutils.library.restartPython()"
   ]
  },
  {
   "cell_type": "code",
   "execution_count": 0,
   "metadata": {
    "application/vnd.databricks.v1+cell": {
     "cellMetadata": {
      "byteLimit": 2048000,
      "rowLimit": 10000
     },
     "inputWidgets": {},
     "nuid": "7ea121f1-863d-4dcf-ad3b-cd780c589458",
     "showTitle": false,
     "tableResultSettingsMap": {},
     "title": ""
    }
   },
   "outputs": [],
   "source": [
    "# import cuml\n",
    "# from cuml import DBSCAN"
   ]
  },
  {
   "cell_type": "code",
   "execution_count": 0,
   "metadata": {
    "application/vnd.databricks.v1+cell": {
     "cellMetadata": {
      "byteLimit": 2048000,
      "rowLimit": 10000
     },
     "inputWidgets": {},
     "nuid": "166bea8d-90e8-476a-ac5e-553b169ac233",
     "showTitle": false,
     "tableResultSettingsMap": {},
     "title": ""
    }
   },
   "outputs": [],
   "source": [
    "import numpy as np\n",
    "from google.cloud import storage\n",
    "\n",
    "storage_client = storage.Client()\n",
    "bucket = storage_client.get_bucket('gcs-dsci-fryou-fy-dev-prd')"
   ]
  },
  {
   "cell_type": "code",
   "execution_count": 0,
   "metadata": {
    "application/vnd.databricks.v1+cell": {
     "cellMetadata": {
      "byteLimit": 2048000,
      "rowLimit": 10000
     },
     "inputWidgets": {},
     "nuid": "78dd09bd-55cb-4bd4-ae65-68709643c82e",
     "showTitle": false,
     "tableResultSettingsMap": {},
     "title": ""
    }
   },
   "outputs": [],
   "source": [
    "import numpy as np\n",
    "import matplotlib.pyplot as plt\n",
    "from sklearn.datasets import make_moons\n",
    "from sklearn.cluster import DBSCAN\n",
    "from sklearn.neighbors import NearestNeighbors"
   ]
  },
  {
   "cell_type": "code",
   "execution_count": 0,
   "metadata": {
    "application/vnd.databricks.v1+cell": {
     "cellMetadata": {
      "byteLimit": 2048000,
      "rowLimit": 10000
     },
     "inputWidgets": {},
     "nuid": "e427e76f-0f3a-4ecf-b4ba-b35732f39955",
     "showTitle": false,
     "tableResultSettingsMap": {},
     "title": ""
    }
   },
   "outputs": [],
   "source": [
    "path = \"gs://gcs-dsci-fryou-fy-dev-prd/catalog_vqvae/vqvae_catalog_embeddings_2025-03-01\"\n",
    "df = spark.read.parquet(path)"
   ]
  },
  {
   "cell_type": "code",
   "execution_count": 0,
   "metadata": {
    "application/vnd.databricks.v1+cell": {
     "cellMetadata": {
      "byteLimit": 2048000,
      "rowLimit": 10000
     },
     "inputWidgets": {},
     "nuid": "20360c75-e042-4dc9-b518-20d2ee1a6635",
     "showTitle": false,
     "tableResultSettingsMap": {},
     "title": ""
    }
   },
   "outputs": [],
   "source": [
    "taxonomy = spark.sql(\"\"\"select distinct catalog_id, sscat_id, scat_id, sscat from gold.product_info\"\"\")\n"
   ]
  },
  {
   "cell_type": "code",
   "execution_count": 0,
   "metadata": {
    "application/vnd.databricks.v1+cell": {
     "cellMetadata": {
      "byteLimit": 2048000,
      "rowLimit": 10000
     },
     "inputWidgets": {},
     "nuid": "998a6b62-2641-4fd8-84e0-dd21b54f6971",
     "showTitle": false,
     "tableResultSettingsMap": {},
     "title": ""
    }
   },
   "outputs": [],
   "source": [
    "intersected_df = df.join(\n",
    "    taxonomy, \n",
    "    on=\"catalog_id\", \n",
    "    how=\"inner\"\n",
    ").select(\"catalog_id\", \"sscat_id\", \"sscat\", \"search_catalog_embedding\")"
   ]
  },
  {
   "cell_type": "code",
   "execution_count": 0,
   "metadata": {
    "application/vnd.databricks.v1+cell": {
     "cellMetadata": {
      "byteLimit": 2048000,
      "rowLimit": 10000
     },
     "inputWidgets": {},
     "nuid": "705a8d99-267c-4252-8daf-0ddf14c9e6dc",
     "showTitle": false,
     "tableResultSettingsMap": {},
     "title": ""
    }
   },
   "outputs": [],
   "source": [
    "df_sarees = intersected_df.filter(intersected_df.sscat == \"Jeans\")\n",
    "pandas_df = df_sarees.select('search_catalog_embedding').toPandas()"
   ]
  },
  {
   "cell_type": "code",
   "execution_count": 0,
   "metadata": {
    "application/vnd.databricks.v1+cell": {
     "cellMetadata": {
      "byteLimit": 2048000,
      "rowLimit": 10000
     },
     "inputWidgets": {},
     "nuid": "d0d68cb3-c438-496a-81a2-d0bd55880df3",
     "showTitle": false,
     "tableResultSettingsMap": {},
     "title": ""
    }
   },
   "outputs": [
    {
     "output_type": "execute_result",
     "data": {
      "text/plain": [
       "search_catalog_embedding    71324\n",
       "dtype: int64"
      ]
     },
     "execution_count": 8,
     "metadata": {},
     "output_type": "execute_result"
    }
   ],
   "source": [
    "pandas_df.count()"
   ]
  },
  {
   "cell_type": "code",
   "execution_count": 0,
   "metadata": {
    "application/vnd.databricks.v1+cell": {
     "cellMetadata": {
      "byteLimit": 2048000,
      "rowLimit": 10000
     },
     "inputWidgets": {},
     "nuid": "9eec7ee3-ef6c-4afa-8d06-6a18b6694f3b",
     "showTitle": false,
     "tableResultSettingsMap": {},
     "title": ""
    }
   },
   "outputs": [],
   "source": [
    "catalog_embedding_1m = np.array(\n",
    "    pandas_df['search_catalog_embedding'].tolist(),\n",
    "    dtype=np.float32\n",
    ")\n",
    "\n",
    "# display(catalog_embedding_1m)"
   ]
  },
  {
   "cell_type": "code",
   "execution_count": 0,
   "metadata": {
    "application/vnd.databricks.v1+cell": {
     "cellMetadata": {
      "byteLimit": 2048000,
      "rowLimit": 10000
     },
     "inputWidgets": {},
     "nuid": "28b59c82-7f43-484e-a145-c21cc95b3c6b",
     "showTitle": false,
     "tableResultSettingsMap": {},
     "title": ""
    }
   },
   "outputs": [],
   "source": [
    "# dbscan_model = DBSCAN(eps=0.05, min_samples=1000, metric='euclidean')\n",
    "# dbscan_model = DBSCAN(eps=0.05, min_samples=1000, verbose=6, algorithm='brute')\n",
    "\n",
    "\n",
    "# dbscan_model.fit(catalog_embedding_1m)"
   ]
  },
  {
   "cell_type": "code",
   "execution_count": 0,
   "metadata": {
    "application/vnd.databricks.v1+cell": {
     "cellMetadata": {
      "byteLimit": 2048000,
      "rowLimit": 10000
     },
     "inputWidgets": {},
     "nuid": "3f887b94-f51d-4474-a4e2-935247e1c07d",
     "showTitle": false,
     "tableResultSettingsMap": {},
     "title": ""
    }
   },
   "outputs": [],
   "source": [
    "from hdbscan import HDBSCAN\n",
    "\n",
    "hdbscan = HDBSCAN(\n",
    "    min_cluster_size=65,     \n",
    "    min_samples=10,          \n",
    "    metric='euclidean'\n",
    ")\n"
   ]
  },
  {
   "cell_type": "code",
   "execution_count": 0,
   "metadata": {
    "application/vnd.databricks.v1+cell": {
     "cellMetadata": {
      "byteLimit": 2048000,
      "rowLimit": 10000
     },
     "inputWidgets": {},
     "nuid": "2af3e9b7-ec57-48ff-9d18-faa382900952",
     "showTitle": false,
     "tableResultSettingsMap": {},
     "title": ""
    }
   },
   "outputs": [],
   "source": [
    "labels = hdbscan.fit_predict(catalog_embedding_1m)"
   ]
  },
  {
   "cell_type": "code",
   "execution_count": 0,
   "metadata": {
    "application/vnd.databricks.v1+cell": {
     "cellMetadata": {
      "byteLimit": 2048000,
      "rowLimit": 10000
     },
     "inputWidgets": {},
     "nuid": "4efdb354-fd9a-4fce-9b44-51838dda770e",
     "showTitle": false,
     "tableResultSettingsMap": {},
     "title": ""
    }
   },
   "outputs": [
    {
     "output_type": "stream",
     "name": "stdout",
     "output_type": "stream",
     "text": [
      "Counter({0: 71180, 1: 79, -1: 65})\n"
     ]
    }
   ],
   "source": [
    "from collections import Counter\n",
    "\n",
    "cluster_counts = Counter(labels)\n",
    "print(cluster_counts)"
   ]
  },
  {
   "cell_type": "code",
   "execution_count": 0,
   "metadata": {
    "application/vnd.databricks.v1+cell": {
     "cellMetadata": {
      "byteLimit": 2048000,
      "rowLimit": 10000
     },
     "inputWidgets": {},
     "nuid": "99c9a2c3-5c20-411f-adb1-a1fe9718df73",
     "showTitle": false,
     "tableResultSettingsMap": {},
     "title": ""
    }
   },
   "outputs": [
    {
     "output_type": "stream",
     "name": "stdout",
     "output_type": "stream",
     "text": [
      "Estimated number of clusters: 2\nEstimated number of noise points: 65\n"
     ]
    }
   ],
   "source": [
    "import numpy as np\n",
    "\n",
    "n_clusters = len(set(labels)) - (1 if -1 in labels else 0)\n",
    "n_noise = list(labels).count(-1)\n",
    "\n",
    "print(f\"Estimated number of clusters: {n_clusters}\")\n",
    "print(f\"Estimated number of noise points: {n_noise}\")"
   ]
  },
  {
   "cell_type": "code",
   "execution_count": 0,
   "metadata": {
    "application/vnd.databricks.v1+cell": {
     "cellMetadata": {
      "byteLimit": 2048000,
      "rowLimit": 10000
     },
     "inputWidgets": {},
     "nuid": "8a4de05a-da12-419e-9590-701550e5c254",
     "showTitle": false,
     "tableResultSettingsMap": {},
     "title": ""
    }
   },
   "outputs": [],
   "source": [
    "pandas_df['cluster'] = labels\n",
    "sdf_withcluster = spark.createDataFrame(pandas_df)\n",
    "result = sdf_withcluster.join(df, on=\"search_catalog_embedding\", how=\"inner\")\n",
    "result = result.drop(\"search_catalog_embedding\")"
   ]
  },
  {
   "cell_type": "code",
   "execution_count": 0,
   "metadata": {
    "application/vnd.databricks.v1+cell": {
     "cellMetadata": {
      "byteLimit": 2048000,
      "rowLimit": 10000
     },
     "inputWidgets": {},
     "nuid": "279fdfe1-0049-4fe1-84bc-6604bdebbc54",
     "showTitle": false,
     "tableResultSettingsMap": {},
     "title": ""
    }
   },
   "outputs": [
    {
     "output_type": "execute_result",
     "data": {
      "text/plain": [
       "[115910672,\n",
       " 163898281,\n",
       " 86180251,\n",
       " 134010316,\n",
       " 142840220,\n",
       " 123600628,\n",
       " 145098000,\n",
       " 26664093,\n",
       " 144905245,\n",
       " 124434474,\n",
       " 115910676,\n",
       " 156873667,\n",
       " 135189696,\n",
       " 116133483,\n",
       " 117194643,\n",
       " 127205266,\n",
       " 161012942,\n",
       " 136830219,\n",
       " 125913466,\n",
       " 131407376,\n",
       " 144987294,\n",
       " 540880,\n",
       " 116882232,\n",
       " 144809044,\n",
       " 114189060,\n",
       " 135450793,\n",
       " 157237550,\n",
       " 161267570,\n",
       " 145745735,\n",
       " 165542393,\n",
       " 142825092,\n",
       " 83111752,\n",
       " 118922914,\n",
       " 113447672,\n",
       " 115910652,\n",
       " 156027098,\n",
       " 43250148,\n",
       " 144785291,\n",
       " 82337258,\n",
       " 33273860,\n",
       " 160583160,\n",
       " 144262828,\n",
       " 157827056,\n",
       " 151640631,\n",
       " 152460389,\n",
       " 540877,\n",
       " 131718609,\n",
       " 19529267,\n",
       " 162872505,\n",
       " 143274909,\n",
       " 119686214,\n",
       " 127211358,\n",
       " 164779832,\n",
       " 131752306,\n",
       " 156399887,\n",
       " 3804429,\n",
       " 160429645,\n",
       " 118026963,\n",
       " 123602561,\n",
       " 131811871,\n",
       " 143888038,\n",
       " 119479043,\n",
       " 23041870,\n",
       " 132476390,\n",
       " 93316418]"
      ]
     },
     "execution_count": 16,
     "metadata": {},
     "output_type": "execute_result"
    }
   ],
   "source": [
    "result.filter(result.cluster == -1).select(\"catalog_id\").rdd.flatMap(lambda x: x).collect()"
   ]
  },
  {
   "cell_type": "markdown",
   "metadata": {
    "application/vnd.databricks.v1+cell": {
     "cellMetadata": {
      "byteLimit": 2048000,
      "rowLimit": 10000
     },
     "inputWidgets": {},
     "nuid": "51ea7683-ba0a-47e6-94f0-54b1a1511f0f",
     "showTitle": false,
     "tableResultSettingsMap": {},
     "title": ""
    }
   },
   "source": [
    "# Kmeans"
   ]
  },
  {
   "cell_type": "code",
   "execution_count": 0,
   "metadata": {
    "application/vnd.databricks.v1+cell": {
     "cellMetadata": {
      "byteLimit": 2048000,
      "rowLimit": 10000
     },
     "inputWidgets": {},
     "nuid": "fdb985c4-0d88-4362-a481-8d9efc96d50e",
     "showTitle": false,
     "tableResultSettingsMap": {},
     "title": ""
    }
   },
   "outputs": [
    {
     "output_type": "stream",
     "name": "stderr",
     "output_type": "stream",
     "text": [
      "Exception ignored on calling ctypes callback function: <function _ThreadpoolInfo._find_modules_with_dl_iterate_phdr.<locals>.match_module_callback at 0x7ed66ce312d0>\nTraceback (most recent call last):\n  File \"/databricks/python/lib/python3.10/site-packages/threadpoolctl.py\", line 400, in match_module_callback\n    self._make_module_from_path(filepath)\n  File \"/databricks/python/lib/python3.10/site-packages/threadpoolctl.py\", line 515, in _make_module_from_path\n    module = module_class(filepath, prefix, user_api, internal_api)\n  File \"/databricks/python/lib/python3.10/site-packages/threadpoolctl.py\", line 606, in __init__\n    self.version = self.get_version()\n  File \"/databricks/python/lib/python3.10/site-packages/threadpoolctl.py\", line 646, in get_version\n    config = get_config().split()\nAttributeError: 'NoneType' object has no attribute 'split'\n"
     ]
    },
    {
     "output_type": "stream",
     "name": "stdout",
     "output_type": "stream",
     "text": [
      "Initialization complete\nIteration 0, inertia 17268.3671875.\nIteration 1, inertia 11833.2744140625.\nIteration 2, inertia 11603.283203125.\nIteration 3, inertia 11508.80078125.\nIteration 4, inertia 11444.712890625.\nIteration 5, inertia 11393.0673828125.\nIteration 6, inertia 11360.4833984375.\nIteration 7, inertia 11333.2275390625.\nIteration 8, inertia 11308.3408203125.\nIteration 9, inertia 11289.3505859375.\nIteration 10, inertia 11275.6240234375.\nIteration 11, inertia 11265.810546875.\nIteration 12, inertia 11258.7197265625.\nIteration 13, inertia 11253.18359375.\nIteration 14, inertia 11248.73046875.\nIteration 15, inertia 11245.3388671875.\nIteration 16, inertia 11242.7607421875.\nIteration 17, inertia 11239.888671875.\nIteration 18, inertia 11235.42578125.\nIteration 19, inertia 11230.4462890625.\nIteration 20, inertia 11227.37890625.\nIteration 21, inertia 11225.17578125.\nIteration 22, inertia 11222.462890625.\nIteration 23, inertia 11219.1005859375.\nIteration 24, inertia 11214.8759765625.\nIteration 25, inertia 11210.2724609375.\nIteration 26, inertia 11206.1279296875.\nIteration 27, inertia 11202.6162109375.\nIteration 28, inertia 11199.9248046875.\nIteration 29, inertia 11197.2998046875.\nIteration 30, inertia 11194.1943359375.\nIteration 31, inertia 11190.1171875.\nIteration 32, inertia 11184.822265625.\nIteration 33, inertia 11179.533203125.\nIteration 34, inertia 11175.482421875.\nIteration 35, inertia 11171.96875.\nIteration 36, inertia 11169.4541015625.\nIteration 37, inertia 11167.4482421875.\nIteration 38, inertia 11165.8017578125.\nIteration 39, inertia 11164.6552734375.\nIteration 40, inertia 11163.7578125.\nIteration 41, inertia 11163.1162109375.\nIteration 42, inertia 11162.66796875.\nIteration 43, inertia 11162.330078125.\nIteration 44, inertia 11162.0625.\nIteration 45, inertia 11161.8798828125.\nIteration 46, inertia 11161.716796875.\nIteration 47, inertia 11161.537109375.\nIteration 48, inertia 11161.3701171875.\nIteration 49, inertia 11161.2041015625.\nIteration 50, inertia 11161.03125.\nIteration 51, inertia 11160.8583984375.\nIteration 52, inertia 11160.6982421875.\nIteration 53, inertia 11160.5693359375.\nIteration 54, inertia 11160.455078125.\nIteration 55, inertia 11160.3388671875.\nIteration 56, inertia 11160.255859375.\nIteration 57, inertia 11160.1630859375.\nIteration 58, inertia 11160.0810546875.\nIteration 59, inertia 11159.9951171875.\nIteration 60, inertia 11159.9169921875.\nIteration 61, inertia 11159.83984375.\nIteration 62, inertia 11159.693359375.\nIteration 63, inertia 11159.4970703125.\nIteration 64, inertia 11159.2646484375.\nIteration 65, inertia 11159.0537109375.\nIteration 66, inertia 11158.8046875.\nIteration 67, inertia 11158.6484375.\nIteration 68, inertia 11158.5224609375.\nIteration 69, inertia 11158.376953125.\nIteration 70, inertia 11158.232421875.\nIteration 71, inertia 11157.9990234375.\nIteration 72, inertia 11157.779296875.\nIteration 73, inertia 11157.6572265625.\nIteration 74, inertia 11157.5634765625.\nIteration 75, inertia 11157.5107421875.\nIteration 76, inertia 11157.478515625.\nIteration 77, inertia 11157.4619140625.\nIteration 78, inertia 11157.4521484375.\nIteration 79, inertia 11157.44140625.\nIteration 80, inertia 11157.4365234375.\nIteration 81, inertia 11157.4296875.\nIteration 82, inertia 11157.423828125.\nIteration 83, inertia 11157.41796875.\nIteration 84, inertia 11157.4189453125.\nIteration 85, inertia 11157.4189453125.\nIteration 86, inertia 11157.416015625.\nIteration 87, inertia 11157.4150390625.\nConverged at iteration 87: center shift 2.2971596536081051e-07 within tolerance 3.5682707093656064e-07.\n"
     ]
    },
    {
     "output_type": "stream",
     "name": "stderr",
     "output_type": "stream",
     "text": [
      "Exception ignored on calling ctypes callback function: <function _ThreadpoolInfo._find_modules_with_dl_iterate_phdr.<locals>.match_module_callback at 0x7ed66ce312d0>\nTraceback (most recent call last):\n  File \"/databricks/python/lib/python3.10/site-packages/threadpoolctl.py\", line 400, in match_module_callback\n    self._make_module_from_path(filepath)\n  File \"/databricks/python/lib/python3.10/site-packages/threadpoolctl.py\", line 515, in _make_module_from_path\n    module = module_class(filepath, prefix, user_api, internal_api)\n  File \"/databricks/python/lib/python3.10/site-packages/threadpoolctl.py\", line 606, in __init__\n    self.version = self.get_version()\n  File \"/databricks/python/lib/python3.10/site-packages/threadpoolctl.py\", line 646, in get_version\n    config = get_config().split()\nAttributeError: 'NoneType' object has no attribute 'split'\n"
     ]
    },
    {
     "output_type": "stream",
     "name": "stdout",
     "output_type": "stream",
     "text": [
      "Initialization complete\nIteration 0, inertia 16976.53515625.\nIteration 1, inertia 11772.2265625.\nIteration 2, inertia 11519.0859375.\nIteration 3, inertia 11421.0234375.\nIteration 4, inertia 11364.7509765625.\nIteration 5, inertia 11322.470703125.\nIteration 6, inertia 11289.3427734375.\nIteration 7, inertia 11260.916015625.\nIteration 8, inertia 11242.431640625.\nIteration 9, inertia 11231.3359375.\nIteration 10, inertia 11224.0625.\nIteration 11, inertia 11218.0810546875.\nIteration 12, inertia 11213.5380859375.\nIteration 13, inertia 11209.703125.\nIteration 14, inertia 11206.5048828125.\nIteration 15, inertia 11203.3193359375.\nIteration 16, inertia 11200.0810546875.\nIteration 17, inertia 11196.2197265625.\nIteration 18, inertia 11191.255859375.\nIteration 19, inertia 11186.8046875.\nIteration 20, inertia 11183.8125.\nIteration 21, inertia 11181.1083984375.\nIteration 22, inertia 11178.9814453125.\nIteration 23, inertia 11177.4326171875.\nIteration 24, inertia 11176.3466796875.\nIteration 25, inertia 11175.3798828125.\nIteration 26, inertia 11174.37890625.\nIteration 27, inertia 11173.453125.\nIteration 28, inertia 11172.6357421875.\nIteration 29, inertia 11171.9345703125.\nIteration 30, inertia 11171.3876953125.\nIteration 31, inertia 11170.8525390625.\nIteration 32, inertia 11170.0810546875.\nIteration 33, inertia 11168.7529296875.\nIteration 34, inertia 11166.4375.\nIteration 35, inertia 11163.046875.\nIteration 36, inertia 11160.244140625.\nIteration 37, inertia 11158.673828125.\nIteration 38, inertia 11157.9619140625.\nIteration 39, inertia 11157.421875.\nIteration 40, inertia 11156.8583984375.\nIteration 41, inertia 11156.3427734375.\nIteration 42, inertia 11155.9970703125.\nIteration 43, inertia 11155.71484375.\nIteration 44, inertia 11155.494140625.\nIteration 45, inertia 11155.3154296875.\nIteration 46, inertia 11155.154296875.\nIteration 47, inertia 11155.0234375.\nIteration 48, inertia 11154.9013671875.\nIteration 49, inertia 11154.779296875.\nIteration 50, inertia 11154.65234375.\nIteration 51, inertia 11154.4912109375.\nIteration 52, inertia 11154.306640625.\nIteration 53, inertia 11154.1396484375.\nIteration 54, inertia 11153.837890625.\nIteration 55, inertia 11153.5693359375.\nIteration 56, inertia 11153.35546875.\nIteration 57, inertia 11153.126953125.\nIteration 58, inertia 11152.9296875.\nIteration 59, inertia 11152.787109375.\nIteration 60, inertia 11152.63671875.\nIteration 61, inertia 11152.484375.\nIteration 62, inertia 11152.3369140625.\nIteration 63, inertia 11152.1630859375.\nIteration 64, inertia 11151.908203125.\nIteration 65, inertia 11151.5361328125.\nIteration 66, inertia 11151.0625.\nIteration 67, inertia 11150.54296875.\nIteration 68, inertia 11150.0048828125.\nIteration 69, inertia 11149.4931640625.\nIteration 70, inertia 11149.046875.\nIteration 71, inertia 11148.8046875.\nIteration 72, inertia 11148.6591796875.\nIteration 73, inertia 11148.5146484375.\nIteration 74, inertia 11148.3818359375.\nIteration 75, inertia 11148.255859375.\nIteration 76, inertia 11148.1337890625.\nIteration 77, inertia 11147.974609375.\nIteration 78, inertia 11147.8232421875.\nIteration 79, inertia 11147.6943359375.\nIteration 80, inertia 11147.5615234375.\nIteration 81, inertia 11147.4287109375.\nIteration 82, inertia 11147.287109375.\nIteration 83, inertia 11147.1376953125.\nIteration 84, inertia 11146.97265625.\nIteration 85, inertia 11146.8056640625.\nIteration 86, inertia 11146.6279296875.\nIteration 87, inertia 11146.47265625.\nIteration 88, inertia 11146.359375.\nIteration 89, inertia 11146.2587890625.\nIteration 90, inertia 11146.173828125.\nIteration 91, inertia 11146.052734375.\nIteration 92, inertia 11145.890625.\nIteration 93, inertia 11145.7431640625.\nIteration 94, inertia 11145.6337890625.\nIteration 95, inertia 11145.5263671875.\nIteration 96, inertia 11145.3466796875.\nIteration 97, inertia 11145.1015625.\nIteration 98, inertia 11144.8984375.\nIteration 99, inertia 11144.6884765625.\nIteration 100, inertia 11144.4873046875.\nIteration 101, inertia 11144.341796875.\nIteration 102, inertia 11144.2158203125.\nIteration 103, inertia 11144.0732421875.\nIteration 104, inertia 11143.953125.\nIteration 105, inertia 11143.8759765625.\nIteration 106, inertia 11143.8017578125.\nIteration 107, inertia 11143.6962890625.\nIteration 108, inertia 11143.599609375.\nIteration 109, inertia 11143.5009765625.\nIteration 110, inertia 11143.3349609375.\nIteration 111, inertia 11143.1484375.\nIteration 112, inertia 11142.9912109375.\nIteration 113, inertia 11142.8779296875.\nIteration 114, inertia 11142.7880859375.\nIteration 115, inertia 11142.7490234375.\nIteration 116, inertia 11142.708984375.\nIteration 117, inertia 11142.673828125.\nIteration 118, inertia 11142.64453125.\nIteration 119, inertia 11142.6279296875.\nIteration 120, inertia 11142.60546875.\nIteration 121, inertia 11142.5888671875.\nIteration 122, inertia 11142.580078125.\nIteration 123, inertia 11142.5546875.\nIteration 124, inertia 11142.537109375.\nIteration 125, inertia 11142.5166015625.\nIteration 126, inertia 11142.4951171875.\nIteration 127, inertia 11142.4736328125.\nIteration 128, inertia 11142.44921875.\nIteration 129, inertia 11142.421875.\nIteration 130, inertia 11142.40234375.\nIteration 131, inertia 11142.3857421875.\nIteration 132, inertia 11142.380859375.\nIteration 133, inertia 11142.3681640625.\nIteration 134, inertia 11142.3544921875.\nIteration 135, inertia 11142.3427734375.\nIteration 136, inertia 11142.33203125.\nIteration 137, inertia 11142.318359375.\nIteration 138, inertia 11142.3076171875.\nIteration 139, inertia 11142.29296875.\nIteration 140, inertia 11142.27734375.\nIteration 141, inertia 11142.265625.\nIteration 142, inertia 11142.2529296875.\nIteration 143, inertia 11142.2431640625.\nIteration 144, inertia 11142.2353515625.\nIteration 145, inertia 11142.2333984375.\nIteration 146, inertia 11142.232421875.\nIteration 147, inertia 11142.232421875.\nIteration 148, inertia 11142.23046875.\nIteration 149, inertia 11142.2294921875.\nIteration 150, inertia 11142.2294921875.\nConverged at iteration 150: strict convergence.\n"
     ]
    },
    {
     "output_type": "stream",
     "name": "stderr",
     "output_type": "stream",
     "text": [
      "Exception ignored on calling ctypes callback function: <function _ThreadpoolInfo._find_modules_with_dl_iterate_phdr.<locals>.match_module_callback at 0x7ed5c97a9240>\nTraceback (most recent call last):\n  File \"/databricks/python/lib/python3.10/site-packages/threadpoolctl.py\", line 400, in match_module_callback\n    self._make_module_from_path(filepath)\n  File \"/databricks/python/lib/python3.10/site-packages/threadpoolctl.py\", line 515, in _make_module_from_path\n    module = module_class(filepath, prefix, user_api, internal_api)\n  File \"/databricks/python/lib/python3.10/site-packages/threadpoolctl.py\", line 606, in __init__\n    self.version = self.get_version()\n  File \"/databricks/python/lib/python3.10/site-packages/threadpoolctl.py\", line 646, in get_version\n    config = get_config().split()\nAttributeError: 'NoneType' object has no attribute 'split'\n"
     ]
    },
    {
     "output_type": "stream",
     "name": "stdout",
     "output_type": "stream",
     "text": [
      "Initialization complete\nIteration 0, inertia 17559.400390625.\nIteration 1, inertia 11725.326171875.\nIteration 2, inertia 11467.4453125.\nIteration 3, inertia 11351.6044921875.\nIteration 4, inertia 11295.11328125.\nIteration 5, inertia 11270.2998046875.\nIteration 6, inertia 11257.6748046875.\nIteration 7, inertia 11250.154296875.\nIteration 8, inertia 11244.1552734375.\nIteration 9, inertia 11237.958984375.\nIteration 10, inertia 11231.37109375.\nIteration 11, inertia 11223.4306640625.\nIteration 12, inertia 11214.291015625.\nIteration 13, inertia 11205.8779296875.\nIteration 14, inertia 11197.93359375.\nIteration 15, inertia 11191.3330078125.\nIteration 16, inertia 11185.57421875.\nIteration 17, inertia 11180.8994140625.\nIteration 18, inertia 11177.841796875.\nIteration 19, inertia 11176.095703125.\nIteration 20, inertia 11175.0888671875.\nIteration 21, inertia 11174.4345703125.\nIteration 22, inertia 11173.962890625.\nIteration 23, inertia 11173.58203125.\nIteration 24, inertia 11173.3046875.\nIteration 25, inertia 11173.1513671875.\nIteration 26, inertia 11173.03515625.\nIteration 27, inertia 11172.939453125.\nIteration 28, inertia 11172.888671875.\nIteration 29, inertia 11172.8564453125.\nIteration 30, inertia 11172.83203125.\nIteration 31, inertia 11172.810546875.\nIteration 32, inertia 11172.794921875.\nIteration 33, inertia 11172.7744140625.\nIteration 34, inertia 11172.767578125.\nIteration 35, inertia 11172.7578125.\nIteration 36, inertia 11172.7421875.\nIteration 37, inertia 11172.73046875.\nIteration 38, inertia 11172.720703125.\nIteration 39, inertia 11172.7060546875.\nIteration 40, inertia 11172.6953125.\nIteration 41, inertia 11172.6845703125.\nIteration 42, inertia 11172.68359375.\nIteration 43, inertia 11172.6787109375.\nIteration 44, inertia 11172.669921875.\nIteration 45, inertia 11172.6650390625.\nIteration 46, inertia 11172.66015625.\nIteration 47, inertia 11172.65625.\nIteration 48, inertia 11172.654296875.\nIteration 49, inertia 11172.654296875.\nConverged at iteration 49: center shift 1.2087734546639695e-07 within tolerance 3.5682707093656064e-07.\n"
     ]
    },
    {
     "output_type": "stream",
     "name": "stderr",
     "output_type": "stream",
     "text": [
      "Exception ignored on calling ctypes callback function: <function _ThreadpoolInfo._find_modules_with_dl_iterate_phdr.<locals>.match_module_callback at 0x7ed5c97a9240>\nTraceback (most recent call last):\n  File \"/databricks/python/lib/python3.10/site-packages/threadpoolctl.py\", line 400, in match_module_callback\n    self._make_module_from_path(filepath)\n  File \"/databricks/python/lib/python3.10/site-packages/threadpoolctl.py\", line 515, in _make_module_from_path\n    module = module_class(filepath, prefix, user_api, internal_api)\n  File \"/databricks/python/lib/python3.10/site-packages/threadpoolctl.py\", line 606, in __init__\n    self.version = self.get_version()\n  File \"/databricks/python/lib/python3.10/site-packages/threadpoolctl.py\", line 646, in get_version\n    config = get_config().split()\nAttributeError: 'NoneType' object has no attribute 'split'\n"
     ]
    },
    {
     "output_type": "stream",
     "name": "stdout",
     "output_type": "stream",
     "text": [
      "Initialization complete\nIteration 0, inertia 17615.626953125.\nIteration 1, inertia 11916.3935546875.\nIteration 2, inertia 11623.1279296875.\nIteration 3, inertia 11502.6181640625.\nIteration 4, inertia 11428.548828125.\nIteration 5, inertia 11383.169921875.\nIteration 6, inertia 11354.34375.\nIteration 7, inertia 11336.5869140625.\nIteration 8, inertia 11324.4306640625.\nIteration 9, inertia 11315.8447265625.\nIteration 10, inertia 11309.203125.\nIteration 11, inertia 11303.5693359375.\nIteration 12, inertia 11297.1064453125.\nIteration 13, inertia 11290.91015625.\nIteration 14, inertia 11285.568359375.\nIteration 15, inertia 11281.7958984375.\nIteration 16, inertia 11278.6064453125.\nIteration 17, inertia 11275.796875.\nIteration 18, inertia 11273.220703125.\nIteration 19, inertia 11270.6552734375.\nIteration 20, inertia 11268.37109375.\nIteration 21, inertia 11266.2490234375.\nIteration 22, inertia 11264.109375.\nIteration 23, inertia 11262.130859375.\nIteration 24, inertia 11260.3759765625.\nIteration 25, inertia 11258.7158203125.\nIteration 26, inertia 11257.048828125.\nIteration 27, inertia 11254.9111328125.\nIteration 28, inertia 11251.32421875.\nIteration 29, inertia 11241.796875.\nIteration 30, inertia 11220.400390625.\nIteration 31, inertia 11210.0908203125.\nIteration 32, inertia 11209.626953125.\nIteration 33, inertia 11209.4794921875.\nIteration 34, inertia 11209.3876953125.\nIteration 35, inertia 11209.3095703125.\nIteration 36, inertia 11209.205078125.\nIteration 37, inertia 11209.0869140625.\nIteration 38, inertia 11208.9814453125.\nIteration 39, inertia 11208.890625.\nIteration 40, inertia 11208.7998046875.\nIteration 41, inertia 11208.7421875.\nIteration 42, inertia 11208.69921875.\nIteration 43, inertia 11208.662109375.\nIteration 44, inertia 11208.6357421875.\nIteration 45, inertia 11208.6103515625.\nIteration 46, inertia 11208.587890625.\nIteration 47, inertia 11208.57421875.\nIteration 48, inertia 11208.5673828125.\nIteration 49, inertia 11208.5595703125.\nIteration 50, inertia 11208.548828125.\nIteration 51, inertia 11208.5322265625.\nIteration 52, inertia 11208.5234375.\nIteration 53, inertia 11208.5146484375.\nIteration 54, inertia 11208.505859375.\nIteration 55, inertia 11208.4970703125.\nIteration 56, inertia 11208.482421875.\nIteration 57, inertia 11208.4609375.\nIteration 58, inertia 11208.44921875.\nIteration 59, inertia 11208.43359375.\nIteration 60, inertia 11208.4091796875.\nIteration 61, inertia 11208.3916015625.\nIteration 62, inertia 11208.3740234375.\nIteration 63, inertia 11208.35546875.\nIteration 64, inertia 11208.34765625.\nIteration 65, inertia 11208.33984375.\nIteration 66, inertia 11208.3330078125.\nIteration 67, inertia 11208.3251953125.\nIteration 68, inertia 11208.3212890625.\nIteration 69, inertia 11208.3193359375.\nIteration 70, inertia 11208.318359375.\nConverged at iteration 70: center shift 1.6411581782449502e-07 within tolerance 3.5682707093656064e-07.\n"
     ]
    },
    {
     "output_type": "stream",
     "name": "stderr",
     "output_type": "stream",
     "text": [
      "Exception ignored on calling ctypes callback function: <function _ThreadpoolInfo._find_modules_with_dl_iterate_phdr.<locals>.match_module_callback at 0x7ed5c97a9240>\nTraceback (most recent call last):\n  File \"/databricks/python/lib/python3.10/site-packages/threadpoolctl.py\", line 400, in match_module_callback\n    self._make_module_from_path(filepath)\n  File \"/databricks/python/lib/python3.10/site-packages/threadpoolctl.py\", line 515, in _make_module_from_path\n    module = module_class(filepath, prefix, user_api, internal_api)\n  File \"/databricks/python/lib/python3.10/site-packages/threadpoolctl.py\", line 606, in __init__\n    self.version = self.get_version()\n  File \"/databricks/python/lib/python3.10/site-packages/threadpoolctl.py\", line 646, in get_version\n    config = get_config().split()\nAttributeError: 'NoneType' object has no attribute 'split'\n"
     ]
    },
    {
     "output_type": "stream",
     "name": "stdout",
     "output_type": "stream",
     "text": [
      "Initialization complete\nIteration 0, inertia 17408.2109375.\nIteration 1, inertia 11906.783203125.\nIteration 2, inertia 11557.3427734375.\nIteration 3, inertia 11418.970703125.\nIteration 4, inertia 11361.896484375.\nIteration 5, inertia 11327.87109375.\nIteration 6, inertia 11305.7041015625.\nIteration 7, inertia 11291.8779296875.\nIteration 8, inertia 11281.671875.\nIteration 9, inertia 11273.5908203125.\nIteration 10, inertia 11266.533203125.\nIteration 11, inertia 11259.970703125.\nIteration 12, inertia 11253.7568359375.\nIteration 13, inertia 11247.412109375.\nIteration 14, inertia 11241.7666015625.\nIteration 15, inertia 11236.2216796875.\nIteration 16, inertia 11230.720703125.\nIteration 17, inertia 11224.859375.\nIteration 18, inertia 11217.025390625.\nIteration 19, inertia 11211.404296875.\nIteration 20, inertia 11206.640625.\nIteration 21, inertia 11204.6181640625.\nIteration 22, inertia 11203.78125.\nIteration 23, inertia 11203.216796875.\nIteration 24, inertia 11202.7509765625.\nIteration 25, inertia 11202.2421875.\nIteration 26, inertia 11201.7568359375.\nIteration 27, inertia 11201.212890625.\nIteration 28, inertia 11200.57421875.\nIteration 29, inertia 11199.9921875.\nIteration 30, inertia 11199.365234375.\nIteration 31, inertia 11198.8291015625.\nIteration 32, inertia 11198.2919921875.\nIteration 33, inertia 11197.82421875.\nIteration 34, inertia 11197.3837890625.\nIteration 35, inertia 11196.9853515625.\nIteration 36, inertia 11196.5166015625.\nIteration 37, inertia 11196.0302734375.\nIteration 38, inertia 11195.66796875.\nIteration 39, inertia 11195.3701171875.\nIteration 40, inertia 11195.109375.\nIteration 41, inertia 11194.896484375.\nIteration 42, inertia 11194.716796875.\nIteration 43, inertia 11194.501953125.\nIteration 44, inertia 11194.283203125.\nIteration 45, inertia 11194.05078125.\nIteration 46, inertia 11193.841796875.\nIteration 47, inertia 11193.6357421875.\nIteration 48, inertia 11193.419921875.\nIteration 49, inertia 11193.18359375.\nIteration 50, inertia 11192.962890625.\nIteration 51, inertia 11192.734375.\nIteration 52, inertia 11192.5263671875.\nIteration 53, inertia 11192.3173828125.\nIteration 54, inertia 11192.1513671875.\nIteration 55, inertia 11191.958984375.\nIteration 56, inertia 11191.728515625.\nIteration 57, inertia 11191.4931640625.\nIteration 58, inertia 11191.294921875.\nIteration 59, inertia 11191.1416015625.\nIteration 60, inertia 11191.0029296875.\nIteration 61, inertia 11190.845703125.\nIteration 62, inertia 11190.6748046875.\nIteration 63, inertia 11190.5263671875.\nIteration 64, inertia 11190.4130859375.\nIteration 65, inertia 11190.2900390625.\nIteration 66, inertia 11190.126953125.\nIteration 67, inertia 11189.9638671875.\nIteration 68, inertia 11189.765625.\nIteration 69, inertia 11189.599609375.\nIteration 70, inertia 11189.376953125.\nIteration 71, inertia 11189.146484375.\nIteration 72, inertia 11188.8486328125.\nIteration 73, inertia 11188.4990234375.\nIteration 74, inertia 11188.0966796875.\nIteration 75, inertia 11187.771484375.\nIteration 76, inertia 11187.529296875.\nIteration 77, inertia 11187.328125.\nIteration 78, inertia 11187.1494140625.\nIteration 79, inertia 11186.990234375.\nIteration 80, inertia 11186.796875.\nIteration 81, inertia 11186.52734375.\nIteration 82, inertia 11186.173828125.\nIteration 83, inertia 11185.7919921875.\nIteration 84, inertia 11185.39453125.\nIteration 85, inertia 11185.0234375.\nIteration 86, inertia 11184.7275390625.\nIteration 87, inertia 11184.34375.\nIteration 88, inertia 11183.9794921875.\nIteration 89, inertia 11183.525390625.\nIteration 90, inertia 11183.0625.\nIteration 91, inertia 11182.615234375.\nIteration 92, inertia 11182.16796875.\nIteration 93, inertia 11181.6572265625.\nIteration 94, inertia 11181.0029296875.\nIteration 95, inertia 11180.25.\nIteration 96, inertia 11179.5185546875.\nIteration 97, inertia 11178.798828125.\nIteration 98, inertia 11178.1611328125.\nIteration 99, inertia 11177.642578125.\nIteration 100, inertia 11177.2353515625.\nIteration 101, inertia 11176.84765625.\nIteration 102, inertia 11176.4521484375.\nIteration 103, inertia 11176.111328125.\nIteration 104, inertia 11175.833984375.\nIteration 105, inertia 11175.6220703125.\nIteration 106, inertia 11175.41015625.\nIteration 107, inertia 11175.2548828125.\nIteration 108, inertia 11175.083984375.\nIteration 109, inertia 11174.8984375.\nIteration 110, inertia 11174.771484375.\nIteration 111, inertia 11174.6474609375.\nIteration 112, inertia 11174.513671875.\nIteration 113, inertia 11174.3955078125.\nIteration 114, inertia 11174.30078125.\nIteration 115, inertia 11174.25.\nIteration 116, inertia 11174.189453125.\nIteration 117, inertia 11174.154296875.\nIteration 118, inertia 11174.123046875.\nIteration 119, inertia 11174.08203125.\nIteration 120, inertia 11174.0458984375.\nIteration 121, inertia 11174.017578125.\nIteration 122, inertia 11173.9853515625.\nIteration 123, inertia 11173.9501953125.\nIteration 124, inertia 11173.927734375.\nIteration 125, inertia 11173.9091796875.\nIteration 126, inertia 11173.890625.\nIteration 127, inertia 11173.875.\nIteration 128, inertia 11173.8564453125.\nIteration 129, inertia 11173.837890625.\nIteration 130, inertia 11173.8154296875.\nIteration 131, inertia 11173.79296875.\nIteration 132, inertia 11173.7802734375.\nIteration 133, inertia 11173.7646484375.\nIteration 134, inertia 11173.76171875.\nIteration 135, inertia 11173.755859375.\nIteration 136, inertia 11173.74609375.\nIteration 137, inertia 11173.7421875.\nIteration 138, inertia 11173.732421875.\nIteration 139, inertia 11173.7236328125.\nIteration 140, inertia 11173.7197265625.\nIteration 141, inertia 11173.71875.\nConverged at iteration 141: center shift 1.938430500558752e-07 within tolerance 3.5682707093656064e-07.\n"
     ]
    },
    {
     "output_type": "stream",
     "name": "stderr",
     "output_type": "stream",
     "text": [
      "Exception ignored on calling ctypes callback function: <function _ThreadpoolInfo._find_modules_with_dl_iterate_phdr.<locals>.match_module_callback at 0x7ed5c97a9240>\nTraceback (most recent call last):\n  File \"/databricks/python/lib/python3.10/site-packages/threadpoolctl.py\", line 400, in match_module_callback\n    self._make_module_from_path(filepath)\n  File \"/databricks/python/lib/python3.10/site-packages/threadpoolctl.py\", line 515, in _make_module_from_path\n    module = module_class(filepath, prefix, user_api, internal_api)\n  File \"/databricks/python/lib/python3.10/site-packages/threadpoolctl.py\", line 606, in __init__\n    self.version = self.get_version()\n  File \"/databricks/python/lib/python3.10/site-packages/threadpoolctl.py\", line 646, in get_version\n    config = get_config().split()\nAttributeError: 'NoneType' object has no attribute 'split'\n"
     ]
    },
    {
     "output_type": "stream",
     "name": "stdout",
     "output_type": "stream",
     "text": [
      "Initialization complete\nIteration 0, inertia 17649.044921875.\nIteration 1, inertia 11818.5908203125.\nIteration 2, inertia 11502.6171875.\nIteration 3, inertia 11391.9091796875.\nIteration 4, inertia 11336.068359375.\nIteration 5, inertia 11295.5478515625.\nIteration 6, inertia 11256.728515625.\nIteration 7, inertia 11213.2333984375.\nIteration 8, inertia 11191.3740234375.\nIteration 9, inertia 11182.1474609375.\nIteration 10, inertia 11176.9052734375.\nIteration 11, inertia 11173.3486328125.\nIteration 12, inertia 11170.5009765625.\nIteration 13, inertia 11167.8935546875.\nIteration 14, inertia 11165.2099609375.\nIteration 15, inertia 11161.818359375.\nIteration 16, inertia 11158.2548828125.\nIteration 17, inertia 11155.505859375.\nIteration 18, inertia 11153.7568359375.\nIteration 19, inertia 11152.5087890625.\nIteration 20, inertia 11151.4833984375.\nIteration 21, inertia 11150.38671875.\nIteration 22, inertia 11148.7529296875.\nIteration 23, inertia 11146.86328125.\nIteration 24, inertia 11144.125.\nIteration 25, inertia 11141.2265625.\nIteration 26, inertia 11138.78515625.\nIteration 27, inertia 11136.779296875.\nIteration 28, inertia 11135.33984375.\nIteration 29, inertia 11134.26171875.\nIteration 30, inertia 11133.3935546875.\nIteration 31, inertia 11131.5927734375.\nIteration 32, inertia 11127.58984375.\nIteration 33, inertia 11123.162109375.\nIteration 34, inertia 11121.1123046875.\nIteration 35, inertia 11119.5810546875.\nIteration 36, inertia 11118.384765625.\nIteration 37, inertia 11117.494140625.\nIteration 38, inertia 11116.30078125.\nIteration 39, inertia 11114.7255859375.\nIteration 40, inertia 11112.443359375.\nIteration 41, inertia 11109.759765625.\nIteration 42, inertia 11106.6357421875.\nIteration 43, inertia 11105.154296875.\nIteration 44, inertia 11104.03515625.\nIteration 45, inertia 11103.34765625.\nIteration 46, inertia 11103.091796875.\nIteration 47, inertia 11102.845703125.\nIteration 48, inertia 11102.5283203125.\nIteration 49, inertia 11102.193359375.\nIteration 50, inertia 11101.6708984375.\nIteration 51, inertia 11101.103515625.\nIteration 52, inertia 11100.6044921875.\nIteration 53, inertia 11100.2607421875.\nIteration 54, inertia 11100.033203125.\nIteration 55, inertia 11099.8564453125.\nIteration 56, inertia 11099.66015625.\nIteration 57, inertia 11099.580078125.\nIteration 58, inertia 11099.5576171875.\nIteration 59, inertia 11099.544921875.\nIteration 60, inertia 11099.517578125.\nIteration 61, inertia 11099.5009765625.\nIteration 62, inertia 11099.484375.\nIteration 63, inertia 11099.46875.\nIteration 64, inertia 11099.451171875.\nIteration 65, inertia 11099.4423828125.\nIteration 66, inertia 11099.42578125.\nIteration 67, inertia 11099.41015625.\nIteration 68, inertia 11099.400390625.\nIteration 69, inertia 11099.396484375.\nIteration 70, inertia 11099.3876953125.\nIteration 71, inertia 11099.3779296875.\nIteration 72, inertia 11099.3701171875.\nIteration 73, inertia 11099.3505859375.\nIteration 74, inertia 11099.310546875.\nIteration 75, inertia 11099.234375.\nIteration 76, inertia 11099.1552734375.\nIteration 77, inertia 11099.04296875.\nIteration 78, inertia 11098.9287109375.\nIteration 79, inertia 11098.8046875.\nIteration 80, inertia 11098.6005859375.\nIteration 81, inertia 11098.2822265625.\nIteration 82, inertia 11097.8974609375.\nIteration 83, inertia 11097.470703125.\nIteration 84, inertia 11097.0.\nIteration 85, inertia 11096.5146484375.\nIteration 86, inertia 11096.16015625.\nIteration 87, inertia 11095.8125.\nIteration 88, inertia 11095.5537109375.\nIteration 89, inertia 11095.400390625.\nIteration 90, inertia 11095.34765625.\nIteration 91, inertia 11095.322265625.\nIteration 92, inertia 11095.30078125.\nIteration 93, inertia 11095.2802734375.\nIteration 94, inertia 11095.2705078125.\nIteration 95, inertia 11095.2578125.\nIteration 96, inertia 11095.248046875.\nIteration 97, inertia 11095.2392578125.\nIteration 98, inertia 11095.2314453125.\nIteration 99, inertia 11095.2236328125.\nIteration 100, inertia 11095.21875.\nIteration 101, inertia 11095.2119140625.\nIteration 102, inertia 11095.2080078125.\nIteration 103, inertia 11095.2080078125.\nIteration 104, inertia 11095.205078125.\nIteration 105, inertia 11095.2060546875.\nIteration 106, inertia 11095.2060546875.\nConverged at iteration 106: center shift 1.400622267055951e-07 within tolerance 3.5682707093656064e-07.\n"
     ]
    },
    {
     "output_type": "stream",
     "name": "stderr",
     "output_type": "stream",
     "text": [
      "Exception ignored on calling ctypes callback function: <function _ThreadpoolInfo._find_modules_with_dl_iterate_phdr.<locals>.match_module_callback at 0x7ed5c97a9240>\nTraceback (most recent call last):\n  File \"/databricks/python/lib/python3.10/site-packages/threadpoolctl.py\", line 400, in match_module_callback\n    self._make_module_from_path(filepath)\n  File \"/databricks/python/lib/python3.10/site-packages/threadpoolctl.py\", line 515, in _make_module_from_path\n    module = module_class(filepath, prefix, user_api, internal_api)\n  File \"/databricks/python/lib/python3.10/site-packages/threadpoolctl.py\", line 606, in __init__\n    self.version = self.get_version()\n  File \"/databricks/python/lib/python3.10/site-packages/threadpoolctl.py\", line 646, in get_version\n    config = get_config().split()\nAttributeError: 'NoneType' object has no attribute 'split'\n"
     ]
    },
    {
     "output_type": "stream",
     "name": "stdout",
     "output_type": "stream",
     "text": [
      "Initialization complete\nIteration 0, inertia 17659.58984375.\nIteration 1, inertia 11901.142578125.\nIteration 2, inertia 11564.0546875.\nIteration 3, inertia 11420.7724609375.\nIteration 4, inertia 11354.39453125.\nIteration 5, inertia 11311.8466796875.\nIteration 6, inertia 11276.041015625.\nIteration 7, inertia 11246.439453125.\nIteration 8, inertia 11226.8779296875.\nIteration 9, inertia 11213.6474609375.\nIteration 10, inertia 11201.1181640625.\nIteration 11, inertia 11191.8681640625.\nIteration 12, inertia 11184.6142578125.\nIteration 13, inertia 11178.9501953125.\nIteration 14, inertia 11176.001953125.\nIteration 15, inertia 11173.6484375.\nIteration 16, inertia 11171.4287109375.\nIteration 17, inertia 11169.3349609375.\nIteration 18, inertia 11167.2021484375.\nIteration 19, inertia 11165.158203125.\nIteration 20, inertia 11163.17578125.\nIteration 21, inertia 11161.2265625.\nIteration 22, inertia 11159.4892578125.\nIteration 23, inertia 11157.9990234375.\nIteration 24, inertia 11156.9306640625.\nIteration 25, inertia 11156.244140625.\nIteration 26, inertia 11155.611328125.\nIteration 27, inertia 11155.1806640625.\nIteration 28, inertia 11154.875.\nIteration 29, inertia 11154.6240234375.\nIteration 30, inertia 11154.40234375.\nIteration 31, inertia 11154.224609375.\nIteration 32, inertia 11154.0576171875.\nIteration 33, inertia 11153.923828125.\nIteration 34, inertia 11153.8291015625.\nIteration 35, inertia 11153.736328125.\nIteration 36, inertia 11153.6787109375.\nIteration 37, inertia 11153.6162109375.\nIteration 38, inertia 11153.55078125.\nIteration 39, inertia 11153.4736328125.\nIteration 40, inertia 11153.396484375.\nIteration 41, inertia 11153.337890625.\nIteration 42, inertia 11153.291015625.\nIteration 43, inertia 11153.2568359375.\nIteration 44, inertia 11153.2255859375.\nIteration 45, inertia 11153.2001953125.\nIteration 46, inertia 11153.169921875.\nIteration 47, inertia 11153.1474609375.\nIteration 48, inertia 11153.1240234375.\nIteration 49, inertia 11153.0986328125.\nIteration 50, inertia 11153.046875.\nIteration 51, inertia 11153.0087890625.\nIteration 52, inertia 11152.9697265625.\nIteration 53, inertia 11152.9228515625.\nIteration 54, inertia 11152.875.\nIteration 55, inertia 11152.8232421875.\nIteration 56, inertia 11152.7880859375.\nIteration 57, inertia 11152.7587890625.\nIteration 58, inertia 11152.7216796875.\nIteration 59, inertia 11152.6787109375.\nIteration 60, inertia 11152.6484375.\nIteration 61, inertia 11152.630859375.\nIteration 62, inertia 11152.6142578125.\nIteration 63, inertia 11152.607421875.\nIteration 64, inertia 11152.599609375.\nIteration 65, inertia 11152.59765625.\nIteration 66, inertia 11152.587890625.\nIteration 67, inertia 11152.5859375.\nIteration 68, inertia 11152.5810546875.\nIteration 69, inertia 11152.5791015625.\nIteration 70, inertia 11152.576171875.\nIteration 71, inertia 11152.572265625.\nIteration 72, inertia 11152.5703125.\nIteration 73, inertia 11152.568359375.\nConverged at iteration 73: center shift 2.871827575745556e-07 within tolerance 3.5682707093656064e-07.\n"
     ]
    },
    {
     "output_type": "stream",
     "name": "stderr",
     "output_type": "stream",
     "text": [
      "Exception ignored on calling ctypes callback function: <function _ThreadpoolInfo._find_modules_with_dl_iterate_phdr.<locals>.match_module_callback at 0x7ed5c97a9240>\nTraceback (most recent call last):\n  File \"/databricks/python/lib/python3.10/site-packages/threadpoolctl.py\", line 400, in match_module_callback\n    self._make_module_from_path(filepath)\n  File \"/databricks/python/lib/python3.10/site-packages/threadpoolctl.py\", line 515, in _make_module_from_path\n    module = module_class(filepath, prefix, user_api, internal_api)\n  File \"/databricks/python/lib/python3.10/site-packages/threadpoolctl.py\", line 606, in __init__\n    self.version = self.get_version()\n  File \"/databricks/python/lib/python3.10/site-packages/threadpoolctl.py\", line 646, in get_version\n    config = get_config().split()\nAttributeError: 'NoneType' object has no attribute 'split'\n"
     ]
    },
    {
     "output_type": "stream",
     "name": "stdout",
     "output_type": "stream",
     "text": [
      "Initialization complete\nIteration 0, inertia 17248.69140625.\nIteration 1, inertia 11733.0712890625.\nIteration 2, inertia 11456.962890625.\nIteration 3, inertia 11387.642578125.\nIteration 4, inertia 11353.5498046875.\nIteration 5, inertia 11327.8046875.\nIteration 6, inertia 11306.2275390625.\nIteration 7, inertia 11288.3515625.\nIteration 8, inertia 11273.76171875.\nIteration 9, inertia 11261.537109375.\nIteration 10, inertia 11251.580078125.\nIteration 11, inertia 11243.3974609375.\nIteration 12, inertia 11236.4970703125.\nIteration 13, inertia 11230.2470703125.\nIteration 14, inertia 11225.37109375.\nIteration 15, inertia 11221.615234375.\nIteration 16, inertia 11217.7275390625.\nIteration 17, inertia 11212.6318359375.\nIteration 18, inertia 11206.54296875.\nIteration 19, inertia 11202.1357421875.\nIteration 20, inertia 11199.609375.\nIteration 21, inertia 11197.107421875.\nIteration 22, inertia 11194.7685546875.\nIteration 23, inertia 11192.9736328125.\nIteration 24, inertia 11191.62109375.\nIteration 25, inertia 11190.3759765625.\nIteration 26, inertia 11189.3896484375.\nIteration 27, inertia 11188.5009765625.\nIteration 28, inertia 11187.7158203125.\nIteration 29, inertia 11187.0166015625.\nIteration 30, inertia 11186.3408203125.\nIteration 31, inertia 11185.5361328125.\nIteration 32, inertia 11184.6337890625.\nIteration 33, inertia 11183.880859375.\nIteration 34, inertia 11183.111328125.\nIteration 35, inertia 11182.2578125.\nIteration 36, inertia 11181.3720703125.\nIteration 37, inertia 11180.6005859375.\nIteration 38, inertia 11179.8056640625.\nIteration 39, inertia 11179.12890625.\nIteration 40, inertia 11178.615234375.\nIteration 41, inertia 11178.2529296875.\nIteration 42, inertia 11177.9716796875.\nIteration 43, inertia 11177.7890625.\nIteration 44, inertia 11177.630859375.\nIteration 45, inertia 11177.5205078125.\nIteration 46, inertia 11177.4296875.\nIteration 47, inertia 11177.35546875.\nIteration 48, inertia 11177.296875.\nIteration 49, inertia 11177.2607421875.\nIteration 50, inertia 11177.23828125.\nIteration 51, inertia 11177.2099609375.\nIteration 52, inertia 11177.1787109375.\nIteration 53, inertia 11177.1669921875.\nIteration 54, inertia 11177.1533203125.\nIteration 55, inertia 11177.138671875.\nIteration 56, inertia 11177.130859375.\nIteration 57, inertia 11177.126953125.\nIteration 58, inertia 11177.125.\nIteration 59, inertia 11177.1171875.\nIteration 60, inertia 11177.1181640625.\nIteration 61, inertia 11177.115234375.\nIteration 62, inertia 11177.115234375.\nIteration 63, inertia 11177.11328125.\nIteration 64, inertia 11177.1103515625.\nIteration 65, inertia 11177.1083984375.\nIteration 66, inertia 11177.10546875.\nIteration 67, inertia 11177.10546875.\nIteration 68, inertia 11177.103515625.\nConverged at iteration 68: center shift 3.377660959813511e-07 within tolerance 3.5682707093656064e-07.\n"
     ]
    },
    {
     "output_type": "stream",
     "name": "stderr",
     "output_type": "stream",
     "text": [
      "Exception ignored on calling ctypes callback function: <function _ThreadpoolInfo._find_modules_with_dl_iterate_phdr.<locals>.match_module_callback at 0x7ed5c97a9240>\nTraceback (most recent call last):\n  File \"/databricks/python/lib/python3.10/site-packages/threadpoolctl.py\", line 400, in match_module_callback\n    self._make_module_from_path(filepath)\n  File \"/databricks/python/lib/python3.10/site-packages/threadpoolctl.py\", line 515, in _make_module_from_path\n    module = module_class(filepath, prefix, user_api, internal_api)\n  File \"/databricks/python/lib/python3.10/site-packages/threadpoolctl.py\", line 606, in __init__\n    self.version = self.get_version()\n  File \"/databricks/python/lib/python3.10/site-packages/threadpoolctl.py\", line 646, in get_version\n    config = get_config().split()\nAttributeError: 'NoneType' object has no attribute 'split'\n"
     ]
    },
    {
     "output_type": "stream",
     "name": "stdout",
     "output_type": "stream",
     "text": [
      "Initialization complete\nIteration 0, inertia 17550.9296875.\nIteration 1, inertia 11762.6943359375.\nIteration 2, inertia 11502.5751953125.\nIteration 3, inertia 11388.3388671875.\nIteration 4, inertia 11324.8349609375.\nIteration 5, inertia 11281.6826171875.\nIteration 6, inertia 11246.8447265625.\nIteration 7, inertia 11216.109375.\nIteration 8, inertia 11195.3076171875.\nIteration 9, inertia 11181.7998046875.\nIteration 10, inertia 11171.4755859375.\nIteration 11, inertia 11164.1884765625.\nIteration 12, inertia 11159.33984375.\nIteration 13, inertia 11156.1376953125.\nIteration 14, inertia 11153.5546875.\nIteration 15, inertia 11151.65625.\nIteration 16, inertia 11150.3359375.\nIteration 17, inertia 11149.34375.\nIteration 18, inertia 11148.3193359375.\nIteration 19, inertia 11147.1328125.\nIteration 20, inertia 11145.9599609375.\nIteration 21, inertia 11144.8544921875.\nIteration 22, inertia 11143.7666015625.\nIteration 23, inertia 11142.8330078125.\nIteration 24, inertia 11142.15625.\nIteration 25, inertia 11141.6484375.\nIteration 26, inertia 11141.2021484375.\nIteration 27, inertia 11140.8740234375.\nIteration 28, inertia 11140.5732421875.\nIteration 29, inertia 11140.22265625.\nIteration 30, inertia 11139.4267578125.\nIteration 31, inertia 11137.6083984375.\nIteration 32, inertia 11133.470703125.\nIteration 33, inertia 11130.2998046875.\nIteration 34, inertia 11127.8740234375.\nIteration 35, inertia 11126.2099609375.\nIteration 36, inertia 11125.169921875.\nIteration 37, inertia 11124.0302734375.\nIteration 38, inertia 11123.02734375.\nIteration 39, inertia 11121.8857421875.\nIteration 40, inertia 11120.404296875.\nIteration 41, inertia 11117.7939453125.\nIteration 42, inertia 11114.125.\nIteration 43, inertia 11109.6416015625.\nIteration 44, inertia 11106.8564453125.\nIteration 45, inertia 11105.0869140625.\nIteration 46, inertia 11103.95703125.\nIteration 47, inertia 11102.9296875.\nIteration 48, inertia 11101.9833984375.\nIteration 49, inertia 11101.169921875.\nIteration 50, inertia 11100.611328125.\nIteration 51, inertia 11100.2373046875.\nIteration 52, inertia 11099.943359375.\nIteration 53, inertia 11099.712890625.\nIteration 54, inertia 11099.5986328125.\nIteration 55, inertia 11099.5078125.\nIteration 56, inertia 11099.4365234375.\nIteration 57, inertia 11099.3994140625.\nIteration 58, inertia 11099.36328125.\nIteration 59, inertia 11099.3291015625.\nIteration 60, inertia 11099.298828125.\nIteration 61, inertia 11099.2841796875.\nIteration 62, inertia 11099.2763671875.\nIteration 63, inertia 11099.2705078125.\nIteration 64, inertia 11099.2578125.\nIteration 65, inertia 11099.2548828125.\nIteration 66, inertia 11099.2451171875.\nIteration 67, inertia 11099.2421875.\nIteration 68, inertia 11099.2412109375.\nConverged at iteration 68: center shift 2.1887026946387778e-07 within tolerance 3.5682707093656064e-07.\n"
     ]
    },
    {
     "output_type": "stream",
     "name": "stderr",
     "output_type": "stream",
     "text": [
      "Exception ignored on calling ctypes callback function: <function _ThreadpoolInfo._find_modules_with_dl_iterate_phdr.<locals>.match_module_callback at 0x7ed5c97a9240>\nTraceback (most recent call last):\n  File \"/databricks/python/lib/python3.10/site-packages/threadpoolctl.py\", line 400, in match_module_callback\n    self._make_module_from_path(filepath)\n  File \"/databricks/python/lib/python3.10/site-packages/threadpoolctl.py\", line 515, in _make_module_from_path\n    module = module_class(filepath, prefix, user_api, internal_api)\n  File \"/databricks/python/lib/python3.10/site-packages/threadpoolctl.py\", line 606, in __init__\n    self.version = self.get_version()\n  File \"/databricks/python/lib/python3.10/site-packages/threadpoolctl.py\", line 646, in get_version\n    config = get_config().split()\nAttributeError: 'NoneType' object has no attribute 'split'\n"
     ]
    },
    {
     "output_type": "stream",
     "name": "stdout",
     "output_type": "stream",
     "text": [
      "Initialization complete\nIteration 0, inertia 17657.619140625.\nIteration 1, inertia 11830.7255859375.\nIteration 2, inertia 11504.16796875.\nIteration 3, inertia 11372.66015625.\nIteration 4, inertia 11316.921875.\nIteration 5, inertia 11285.4072265625.\nIteration 6, inertia 11262.662109375.\nIteration 7, inertia 11242.3017578125.\nIteration 8, inertia 11223.91015625.\nIteration 9, inertia 11207.796875.\nIteration 10, inertia 11195.1669921875.\nIteration 11, inertia 11186.626953125.\nIteration 12, inertia 11181.013671875.\nIteration 13, inertia 11176.697265625.\nIteration 14, inertia 11173.076171875.\nIteration 15, inertia 11170.53125.\nIteration 16, inertia 11168.90234375.\nIteration 17, inertia 11167.8310546875.\nIteration 18, inertia 11166.9287109375.\nIteration 19, inertia 11166.1494140625.\nIteration 20, inertia 11165.517578125.\nIteration 21, inertia 11165.08203125.\nIteration 22, inertia 11164.6884765625.\nIteration 23, inertia 11164.4052734375.\nIteration 24, inertia 11164.1962890625.\nIteration 25, inertia 11164.0615234375.\nIteration 26, inertia 11163.97265625.\nIteration 27, inertia 11163.9072265625.\nIteration 28, inertia 11163.8544921875.\nIteration 29, inertia 11163.8046875.\nIteration 30, inertia 11163.7685546875.\nIteration 31, inertia 11163.7392578125.\nIteration 32, inertia 11163.71484375.\nIteration 33, inertia 11163.693359375.\nIteration 34, inertia 11163.6826171875.\nIteration 35, inertia 11163.669921875.\nIteration 36, inertia 11163.658203125.\nIteration 37, inertia 11163.65234375.\nIteration 38, inertia 11163.63671875.\nIteration 39, inertia 11163.630859375.\nIteration 40, inertia 11163.623046875.\nIteration 41, inertia 11163.619140625.\nIteration 42, inertia 11163.6181640625.\nIteration 43, inertia 11163.6142578125.\nIteration 44, inertia 11163.6162109375.\nIteration 45, inertia 11163.61328125.\nIteration 46, inertia 11163.609375.\nIteration 47, inertia 11163.609375.\nIteration 48, inertia 11163.6083984375.\nIteration 49, inertia 11163.6025390625.\nIteration 50, inertia 11163.6025390625.\nIteration 51, inertia 11163.6015625.\nConverged at iteration 51: center shift 3.3583307867957046e-07 within tolerance 3.5682707093656064e-07.\n"
     ]
    }
   ],
   "source": [
    "from sklearn.cluster import KMeans\n",
    "\n",
    "model = KMeans(n_clusters=50, random_state=42, verbose=6)\n",
    "clusters = model.fit_predict (catalog_embedding_1m)\n",
    "pandas_df['cluster'] = clusters\n",
    "sdf_withcluster = spark.createDataFrame(pandas_df)\n",
    "result_50 = sdf_withcluster.join(df, on=\"search_catalog_embedding\", how=\"inner\")\n"
   ]
  },
  {
   "cell_type": "code",
   "execution_count": 0,
   "metadata": {
    "application/vnd.databricks.v1+cell": {
     "cellMetadata": {
      "byteLimit": 2048000,
      "rowLimit": 10000
     },
     "inputWidgets": {},
     "nuid": "1e0f880e-fbc6-471a-9096-2f8807ffed48",
     "showTitle": false,
     "tableResultSettingsMap": {},
     "title": ""
    }
   },
   "outputs": [],
   "source": [
    "intersected_result_50 = result_50.join(\n",
    "    taxonomy, \n",
    "    on=\"catalog_id\", \n",
    "    how=\"inner\"\n",
    ").select(\"cluster\", \"catalog_id\", \"sscat_id\", \"sscat\")"
   ]
  },
  {
   "cell_type": "code",
   "execution_count": 0,
   "metadata": {
    "application/vnd.databricks.v1+cell": {
     "cellMetadata": {
      "byteLimit": 2048000,
      "rowLimit": 10000
     },
     "inputWidgets": {},
     "nuid": "a3b2aef8-1b67-484c-b0da-bd359704bf39",
     "showTitle": false,
     "tableResultSettingsMap": {},
     "title": ""
    }
   },
   "outputs": [
    {
     "output_type": "display_data",
     "data": {
      "text/plain": [
       "\u001B[0;31m---------------------------------------------------------------------------\u001B[0m\n",
       "\u001B[0;31mNameError\u001B[0m                                 Traceback (most recent call last)\n",
       "File \u001B[0;32m<command-5509296356043018>, line 1\u001B[0m\n",
       "\u001B[0;32m----> 1\u001B[0m \u001B[43mcatalog_id_list\u001B[49m\n",
       "\n",
       "\u001B[0;31mNameError\u001B[0m: name 'catalog_id_list' is not defined"
      ]
     },
     "metadata": {
      "application/vnd.databricks.v1+output": {
       "arguments": {},
       "data": "\u001B[0;31m---------------------------------------------------------------------------\u001B[0m\n\u001B[0;31mNameError\u001B[0m                                 Traceback (most recent call last)\nFile \u001B[0;32m<command-5509296356043018>, line 1\u001B[0m\n\u001B[0;32m----> 1\u001B[0m \u001B[43mcatalog_id_list\u001B[49m\n\n\u001B[0;31mNameError\u001B[0m: name 'catalog_id_list' is not defined",
       "errorSummary": "<span class='ansi-red-fg'>NameError</span>: name 'catalog_id_list' is not defined",
       "errorTraceType": "ansi",
       "metadata": {},
       "type": "ipynbError"
      }
     },
     "output_type": "display_data"
    }
   ],
   "source": [
    "catalog_id_list"
   ]
  },
  {
   "cell_type": "code",
   "execution_count": 0,
   "metadata": {
    "application/vnd.databricks.v1+cell": {
     "cellMetadata": {
      "byteLimit": 2048000,
      "rowLimit": 10000
     },
     "inputWidgets": {},
     "nuid": "c58e376b-e3a5-421e-955a-55d4f093fe67",
     "showTitle": false,
     "tableResultSettingsMap": {},
     "title": ""
    }
   },
   "outputs": [
    {
     "output_type": "display_data",
     "data": {
      "text/plain": [
       ""
      ]
     },
     "metadata": {
      "application/vnd.databricks.v1+output": {
       "arguments": {},
       "data": "",
       "errorSummary": "Command skipped",
       "errorTraceType": "ansi",
       "metadata": {},
       "type": "ipynbError"
      }
     },
     "output_type": "display_data"
    }
   ],
   "source": [
    "catalog_id_list = intersected_result_50.filter(intersected_result_50.cluster == 20).select(\"catalog_id\").rdd.flatMap(lambda x: x).collect()\n",
    "display_images(catalog_id_list)"
   ]
  },
  {
   "cell_type": "code",
   "execution_count": 0,
   "metadata": {
    "application/vnd.databricks.v1+cell": {
     "cellMetadata": {
      "byteLimit": 2048000,
      "rowLimit": 10000
     },
     "inputWidgets": {},
     "nuid": "fa40448b-86bf-42f5-86d9-1178c38266e2",
     "showTitle": false,
     "tableResultSettingsMap": {},
     "title": ""
    }
   },
   "outputs": [
    {
     "output_type": "display_data",
     "data": {
      "text/markdown": [
       "# Generate Data"
      ]
     },
     "metadata": {},
     "output_type": "display_data"
    },
    {
     "output_type": "display_data",
     "data": {
      "text/plain": [
       ""
      ]
     },
     "metadata": {
      "application/vnd.databricks.v1+output": {
       "arguments": {},
       "data": "",
       "errorSummary": "The execution of this command did not finish successfully",
       "errorTraceType": "ansi",
       "metadata": {},
       "type": "ipynbError"
      }
     },
     "output_type": "display_data"
    }
   ],
   "source": [
    "%run\n",
    "./display_images"
   ]
  },
  {
   "cell_type": "code",
   "execution_count": 0,
   "metadata": {
    "application/vnd.databricks.v1+cell": {
     "cellMetadata": {
      "byteLimit": 2048000,
      "rowLimit": 10000
     },
     "inputWidgets": {},
     "nuid": "55f3433e-f562-4f40-9a31-02e185f76781",
     "showTitle": false,
     "tableResultSettingsMap": {},
     "title": ""
    }
   },
   "outputs": [],
   "source": []
  }
 ],
 "metadata": {
  "application/vnd.databricks.v1+notebook": {
   "computePreferences": null,
   "dashboards": [],
   "environmentMetadata": {
    "base_environment": "",
    "environment_version": "2"
   },
   "inputWidgetPreferences": null,
   "language": "python",
   "notebookMetadata": {
    "pythonIndentUnit": 4
   },
   "notebookName": "Cluster analysis-2",
   "widgets": {}
  },
  "language_info": {
   "name": "python"
  }
 },
 "nbformat": 4,
 "nbformat_minor": 0
}